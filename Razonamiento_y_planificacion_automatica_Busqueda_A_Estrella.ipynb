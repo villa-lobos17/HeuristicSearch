{
  "nbformat": 4,
  "nbformat_minor": 0,
  "metadata": {
    "kernelspec": {
      "display_name": "Python 3",
      "language": "python",
      "name": "python3"
    },
    "language_info": {
      "codemirror_mode": {
        "name": "ipython",
        "version": 3
      },
      "file_extension": ".py",
      "mimetype": "text/x-python",
      "name": "python",
      "nbconvert_exporter": "python",
      "pygments_lexer": "ipython3",
      "version": "3.8.5"
    },
    "colab": {
      "name": "Razonamiento y planificacion automatica Busqueda A-Estrella.ipynb",
      "provenance": [],
      "include_colab_link": true
    }
  },
  "cells": [
    {
      "cell_type": "markdown",
      "metadata": {
        "id": "view-in-github",
        "colab_type": "text"
      },
      "source": [
        "<a href=\"https://colab.research.google.com/github/villa-lobos17/HeuristicSearch/blob/master/Razonamiento_y_planificacion_automatica_Busqueda_A_Estrella.ipynb\" target=\"_parent\"><img src=\"https://colab.research.google.com/assets/colab-badge.svg\" alt=\"Open In Colab\"/></a>"
      ]
    },
    {
      "cell_type": "markdown",
      "metadata": {
        "id": "zZos-tOCUF7Z"
      },
      "source": [
        "## Resolver laberinto\n",
        "\n",
        "Ejemplo de busqueda en estrella que se encarga de buscar mediante un punto de inicio un punto fin con menor costo"
      ]
    },
    {
      "cell_type": "code",
      "metadata": {
        "id": "uJgMUFMCUF7a"
      },
      "source": [
        "#Importar librerias\n",
        "import numpy as np"
      ],
      "execution_count": 2,
      "outputs": []
    },
    {
      "cell_type": "code",
      "metadata": {
        "id": "9LpEL4NRUF7b"
      },
      "source": [
        "#Crear la clase Nodo\n",
        "class Nodo :\n",
        "    #padre es de tipo nodo y se encarga de referenciar a los nodos ancestros\n",
        "    #g es el costo\n",
        "    #h es el costo heuristico estimado para el nodo actual\n",
        "    #f es el costo total f = g + h\n",
        "\n",
        "    def __repr__(self):\n",
        "        return \"<Test g:%s h:%s f:%s posicion:%s>\" % (self.g, self.h, self.f,self.posicion)\n",
        "\n",
        "    def __str__(self):\n",
        "        return \"From str <Test g:%s h:%s f:%s posicion:%s>\" % (self.g, self.h, self.f,self.posicion)\n",
        "    \n",
        "    def __init__(self, padre=None, posicion=None):\n",
        "        self.padre = padre\n",
        "        self.posicion = posicion\n",
        "\n",
        "        self.g = 0\n",
        "        self.h = 0\n",
        "        self.f = 0\n",
        "\n",
        "    def __eq__(self, other):\n",
        "        return self.posicion == other.posicion"
      ],
      "execution_count": 3,
      "outputs": []
    },
    {
      "cell_type": "code",
      "metadata": {
        "id": "r_5V3LLxUF7b"
      },
      "source": [
        "#variable Generica de movimiento basada en el ejercicio\n",
        "#agrego los movimientos que debe realizar en los casos en los que se encuentrre con los valores\n",
        "#arriba,izquierda,abajo,derecha\n",
        "movimientos = [[-1, 0],  # arriba\n",
        "    [0, -1],  # izquierda\n",
        "    [1, 0],  # abajo\n",
        "    [0, 1]]  # derecha"
      ],
      "execution_count": 4,
      "outputs": []
    },
    {
      "cell_type": "code",
      "metadata": {
        "id": "wkg6GxUEUF7c"
      },
      "source": [
        "#metodo que se encarga de crear un objeto de tipo nodo usando la posicion\n",
        "def crear_nodo_por_posicion(posicion):\n",
        "    # crea nodo de inicio teniendo en cuenta\n",
        "    nodo_resultante = Nodo(None, tuple(posicion))\n",
        "    # Asigna el costo,costo heuristico estimado, del nodo inicio\n",
        "    nodo_resultante.g = 0\n",
        "    nodo_resultante.h = 0\n",
        "    nodo_resultante.f = 0\n",
        "\n",
        "    return nodo_resultante"
      ],
      "execution_count": 5,
      "outputs": []
    },
    {
      "cell_type": "code",
      "metadata": {
        "id": "rz1WBqOXUF7c"
      },
      "source": [
        "#utilidad que muestra graficamente la salida al objetivo\n",
        "def mostrar_ruta(ruta):\n",
        "    for i in ruta:\n",
        "        listel = []\n",
        "        for j in i:\n",
        "            if j >-1:\n",
        "                listel.append(\"@\")\n",
        "            else:\n",
        "                listel.append(\"X\")\n",
        "        print(listel)"
      ],
      "execution_count": 6,
      "outputs": []
    },
    {
      "cell_type": "code",
      "metadata": {
        "id": "wFLcpQh5UF7c"
      },
      "source": [
        "#Obtiene la nueva posicion de un elemento y de sus hijos\n",
        "def obtener_posicion( hijos, laberinto, nodo_actual, num_columnas, num_filas):\n",
        "    for nueva_posicion in movimientos:\n",
        "        # obtener la posicion del nodo\n",
        "        posicion_nodo = (\n",
        "            nodo_actual.posicion[0] + nueva_posicion[0], nodo_actual.posicion[1] + nueva_posicion[1])\n",
        "\n",
        "        if (posicion_nodo[0] > (num_filas - 1) or\n",
        "                posicion_nodo[0] < 0 or\n",
        "                posicion_nodo[1] > (num_columnas - 1) or\n",
        "                posicion_nodo[1] < 0):\n",
        "            continue\n",
        "\n",
        "        # verificar si es viable el nodo en el camino es decir si se puede camianr alli\n",
        "        if laberinto[posicion_nodo[0]][posicion_nodo[1]] != 0:\n",
        "            continue\n",
        "\n",
        "        # crea un nuevo nodo\n",
        "        nuevo_nodo = Nodo(nodo_actual, posicion_nodo)\n",
        "\n",
        "        # lo agrega a los nodos hijos\n",
        "        hijos.append(nuevo_nodo)"
      ],
      "execution_count": 7,
      "outputs": []
    },
    {
      "cell_type": "code",
      "metadata": {
        "id": "-duw7PGwUF7d"
      },
      "source": [
        "def obtener_complejidad_euclidea( costo, hijos, nodo_actual, nodo_fin, puntos_por_visitar, puntos_visitados):\n",
        "    for hijo in hijos:\n",
        "        # valida si ya se ha visitado el hijo (en la lista de hijos)\n",
        "        if len([h_visitado for h_visitado in puntos_visitados if h_visitado == hijo]) > 0:\n",
        "            continue\n",
        "\n",
        "        # creamos el valor de los costos para los hijos\n",
        "\n",
        "        # agregamos el costo\n",
        "        hijo.g = nodo_actual.g + costo\n",
        "\n",
        "        # calculamos el costo heuristico usando la  distancia euclidea\n",
        "        hijo.h = (((hijo.posicion[0] - nodo_fin.posicion[0]) ** 2) +\n",
        "                  ((hijo.posicion[1] - nodo_fin.posicion[1]) ** 2))\n",
        "\n",
        "        # se calcula f que es igual a  f = g+h\n",
        "        hijo.f = hijo.g + hijo.h\n",
        "\n",
        "        # se verifica si el hijo ya esta en los puntos visitados y si su costo es el mas bajo\n",
        "        if len([i for i in puntos_por_visitar if hijo == i and hijo.g > i.g]) > 0:\n",
        "            continue\n",
        "\n",
        "        # agrega el nodo hijo a la lista\n",
        "        puntos_por_visitar.append(hijo)"
      ],
      "execution_count": 8,
      "outputs": []
    },
    {
      "cell_type": "code",
      "metadata": {
        "id": "tVaSUsgEUF7d"
      },
      "source": [
        "# retorna el camino de la busqueda\n",
        "def retorna_ruta(nodo_actual, laberinto):\n",
        "    camino = []\n",
        "    # se usa el metodo np shape que retorna los valores de la matriz el ancho y el alto\n",
        "    # en ete caso el numero de filas y columnas\n",
        "    # se ingresan los valores de la tupla en las variables\n",
        "    num_filas, num_columnas = np.shape(laberinto)\n",
        "    # se rellenan las columnas de -1 en las 2 dimenciones\n",
        "    resultado = [[-1 for i in range(num_columnas)] for j in range(num_filas)]\n",
        "    # se procesa la coleccion de nodos y se crea una coleccion de posiciones\n",
        "    actual = nodo_actual\n",
        "\n",
        "    while actual is not None:\n",
        "        camino.append(actual.posicion)\n",
        "        actual = actual.padre\n",
        "    camino = camino[::-1]\n",
        "    # se declara un incice para marcar los que cumplen la condicion y hacen parte de la solucion\n",
        "    # asi va incrementando de 1 en 1\n",
        "    valor_indice = 0\n",
        "    for i in range(len(camino)):\n",
        "        resultado[camino[i][0]][camino[i][1]] = valor_indice\n",
        "        valor_indice += 1\n",
        "    return resultado"
      ],
      "execution_count": 9,
      "outputs": []
    },
    {
      "cell_type": "code",
      "metadata": {
        "id": "9-NzQDUCUF7d"
      },
      "source": [
        "def busqueda_laberinto(laberinto, costo, inicio, fin):\n",
        "    # crea nodo de inicio teniendo en cuenta\n",
        "    nodo_inicio = crear_nodo_por_posicion(inicio)\n",
        "    # crea nodo de Fin teniendo en cuenta\n",
        "    nodo_fin = crear_nodo_por_posicion(fin)\n",
        "    # se crea la lista de puntos visitados\n",
        "    puntos_visitados = []\n",
        "    # se crea la lista de puntos por visitar\n",
        "    puntos_por_visitar = []\n",
        "    # agregamos el punto de inicio a los puntos por visitar\n",
        "    puntos_por_visitar.append(nodo_inicio)\n",
        "    # se crea la variable de iteracion o el contador de iteracion\n",
        "    iretador_salida = 0\n",
        "    iteraciones_maximas = (len(laberinto) // 2) ** 10\n",
        "    # se agrega una validacion de ejecucion paraa no caer en un bucle infinito\n",
        "\n",
        "    # extraemos las dimenciones del laberinto\n",
        "    num_filas, num_columnas = np.shape(laberinto)\n",
        "    # ejecuta elbucle de la busqueda\n",
        "    while len(puntos_por_visitar) > 0:\n",
        "        iretador_salida += 1\n",
        "        # obtener el nodo Actual\n",
        "        nodo_actual = puntos_por_visitar[0]\n",
        "        indice_actual = 0\n",
        "        #print(enumerate(puntos_por_visitar))\n",
        "\n",
        "        for indice, item in enumerate(puntos_por_visitar):\n",
        "            #print(puntos_por_visitar)\n",
        "            #print(item)\n",
        "            #print(nodo_actual)\n",
        "            # si el costo total del item es menor que el costo total del item se asigna item\n",
        "            if item.f < nodo_actual.f:\n",
        "                nodo_actual = item\n",
        "                indice_actual = indice\n",
        "\n",
        "        if (iretador_salida > iteraciones_maximas):\n",
        "            print(\"Warning :::: el laberinto presenta muchas iteraciones el costo computacional es muy alto\")\n",
        "            return retorna_ruta(nodo_actual, laberinto)\n",
        "\n",
        "        # elimina el punto de puntos por visitar\n",
        "        # lo agrega en puntos visitados\n",
        "        puntos_por_visitar.pop(indice_actual)\n",
        "        puntos_visitados.append(nodo_actual)\n",
        "\n",
        "        if nodo_actual == nodo_fin:\n",
        "            return retorna_ruta(nodo_actual, laberinto)\n",
        "\n",
        "        # Se generan nodos hijos apartir de los cuadrados adjacentes\n",
        "        hijos = []\n",
        "\n",
        "        obtener_posicion(hijos, laberinto, nodo_actual, num_columnas, num_filas)\n",
        "\n",
        "        obtener_complejidad_euclidea(costo, hijos, nodo_actual, nodo_fin, puntos_por_visitar, puntos_visitados)"
      ],
      "execution_count": 10,
      "outputs": []
    },
    {
      "cell_type": "code",
      "metadata": {
        "colab": {
          "base_uri": "https://localhost:8080/"
        },
        "id": "BBP2Rd06UF7e",
        "outputId": "f902a4d0-663b-4f94-b865-0ab8faf5edf8"
      },
      "source": [
        "##Test\n",
        "inicio = [0, 0]  # posicion de inicio \n",
        "fin  = [4, 5]  # posicion final\n",
        "costo = 1  # costo por movimiento\n",
        "#ruta de laberinto o simplemente laberinto\n",
        "laberinto = [[0, 1, 0, 0, 0, 0],\n",
        "            [0, 0, 0, 0, 0, 0],\n",
        "            [0, 1, 0, 1, 0, 0],\n",
        "            [0, 1, 0, 0, 1, 0],\n",
        "            [0, 0, 0, 0, 1, 0]]\n",
        "\n",
        "#en este caso 1 es la representacion de uan pared\n",
        "respuesta = busqueda_laberinto(laberinto, costo, inicio, fin)\n",
        "\n",
        "#lo graficamos\n",
        "mostrar_ruta(respuesta)\n",
        "\n",
        "\n"
      ],
      "execution_count": 11,
      "outputs": [
        {
          "output_type": "stream",
          "text": [
            "['@', 'X', 'X', 'X', 'X', 'X']\n",
            "['@', '@', '@', '@', '@', 'X']\n",
            "['X', 'X', 'X', 'X', '@', '@']\n",
            "['X', 'X', 'X', 'X', 'X', '@']\n",
            "['X', 'X', 'X', 'X', 'X', '@']\n"
          ],
          "name": "stdout"
        }
      ]
    }
  ]
}